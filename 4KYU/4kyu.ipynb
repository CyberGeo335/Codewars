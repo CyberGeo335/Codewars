{
 "cells": [
  {
   "cell_type": "markdown",
   "source": [
    "# Roman Numerals Helper\n",
    "Write two functions that convert a roman numeral to and from an integer value. Multiple roman numeral values\n",
    " will be tested for each function.\n",
    "\n",
    "Modern Roman numerals are written by expressing each digit separately starting with the left most digit and skipping any digit with a value of zero. In Roman numerals 1990 is rendered: 1000=M, 900=CM, 90=XC; resulting in MCMXC. 2008 is written as 2000=MM, 8=VIII; or MMVIII. 1666 uses each Roman symbol in descending order: MDCLXVI.\n",
    "\n",
    "Input range : 1 <= n < 4000\n",
    "\n",
    "In this kata 4 should be represented as IV, NOT as IIII (the \"watchmaker's four\").\n",
    "\n",
    "Examples\n",
    "to roman:\n",
    "2000 -> \"MM\"\n",
    "1666 -> \"MDCLXVI\"\n",
    "1000 -> \"M\"\n",
    " 400 -> \"CD\"\n",
    "  90 -> \"XC\"\n",
    "  40 -> \"XL\"\n",
    "   1 -> \"I\"\n",
    "\n",
    "from roman:\n",
    "\"MM\"      -> 2000\n",
    "\"MDCLXVI\" -> 1666\n",
    "\"M\"       -> 1000\n",
    "\"CD\"      -> 400\n",
    "\"XC\"      -> 90\n",
    "\"XL\"      -> 40\n",
    "\"I\"       -> 1"
   ],
   "metadata": {
    "collapsed": false
   }
  },
  {
   "cell_type": "code",
   "execution_count": 6,
   "metadata": {
    "collapsed": true
   },
   "outputs": [
    {
     "name": "stdout",
     "output_type": "stream",
     "text": [
      "1000\n"
     ]
    }
   ],
   "source": [
    "ROMa = {\n",
    "    'M': 1000,\n",
    "    'CM': 900,\n",
    "    'D': 500,\n",
    "    'CD': 400,\n",
    "    'C': 100,\n",
    "    'XC': 90,\n",
    "    'L': 50,\n",
    "    'XL': 40,\n",
    "    'X': 10,\n",
    "    'IX': 9,\n",
    "    'V': 5,\n",
    "    'IV': 4,\n",
    "    'I': 1,\n",
    "}\n",
    "\n",
    "class RomanNumerals:\n",
    "\n",
    "    @staticmethod\n",
    "    def to_roman(input_value):\n",
    "        s = ''\n",
    "        for key, value in ROMa.items():\n",
    "            while input_value % value != input_value:\n",
    "                input_value = input_value - value\n",
    "                s += key\n",
    "        return s\n",
    "\n",
    "    @staticmethod\n",
    "    def from_roman(input_value):\n",
    "        sum = 0\n",
    "        for key, value in ROMa.items():\n",
    "            while input_value.startswith(key):\n",
    "                input_value = input_value[len(key):]\n",
    "                sum += value\n",
    "        return sum\n",
    "\n",
    "print(RomanNumerals.from_roman('M'))"
   ]
  },
  {
   "cell_type": "code",
   "execution_count": 6,
   "outputs": [],
   "source": [],
   "metadata": {
    "collapsed": false
   }
  }
 ],
 "metadata": {
  "kernelspec": {
   "display_name": "Python 3",
   "language": "python",
   "name": "python3"
  },
  "language_info": {
   "codemirror_mode": {
    "name": "ipython",
    "version": 2
   },
   "file_extension": ".py",
   "mimetype": "text/x-python",
   "name": "python",
   "nbconvert_exporter": "python",
   "pygments_lexer": "ipython2",
   "version": "2.7.6"
  }
 },
 "nbformat": 4,
 "nbformat_minor": 0
}
