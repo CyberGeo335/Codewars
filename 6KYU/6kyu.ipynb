{
 "cells": [
  {
   "cell_type": "markdown",
   "source": [
    "# Find the odd int\n",
    "\n",
    "Condition:\n",
    "\n",
    "Given an array of integers, find the one that appears an odd number of times.\n",
    "\n",
    "There will always be only one integer that appears an odd number of times.\n",
    "\n",
    "Examples\n",
    "[7] should return 7, because it occurs 1 time (which is odd).\n",
    "[0] should return 0, because it occurs 1 time (which is odd).\n",
    "[1,1,2] should return 2, because it occurs 1 time (which is odd).\n",
    "[0,1,0,1,0] should return 0, because it occurs 3 times (which is odd).\n",
    "[1,2,2,3,3,3,4,3,3,3,2,2,1] should return 4, because it appears 1 time (which is odd)."
   ],
   "metadata": {
    "collapsed": false
   }
  },
  {
   "cell_type": "code",
   "execution_count": 3,
   "metadata": {
    "collapsed": true
   },
   "outputs": [
    {
     "name": "stdout",
     "output_type": "stream",
     "text": [
      "5 4 -1\n"
     ]
    }
   ],
   "source": [
    "def find_it(seq):\n",
    "    for i in range(len(seq)):\n",
    "        count = 0\n",
    "        for j in range(len(seq)):\n",
    "            if seq[i] == seq[j]:\n",
    "                count += 1\n",
    "        if count % 2 == 1:\n",
    "            return int(seq[i])\n",
    "\n",
    "\n",
    "seq_1 = [20,1,-1,2,-2,3,3,5,5,1,2,4,20,4,-1,-2,5] # Res: 5\n",
    "seq_2 = [1,2,2,3,3,3,4,3,3,3,2,2,1] # Res: 4\n",
    "seq_3 = [1,1,2,-2,5,2,4,4,-1,-2,5] # Res: -1\n",
    "\n",
    "print(find_it(seq_1), find_it(seq_2), find_it(seq_3))"
   ]
  },
  {
   "cell_type": "markdown",
   "source": [
    "# Are they the \"same\"?\n",
    "\n",
    "Given two arrays a and b write a function comp(a, b) (orcompSame(a, b)) that checks whether the two arrays have the \"same\" elements, with the same multiplicities (the multiplicity of a member is the number of times it appears). \"Same\" means, here, that the elements in b are the elements in a squared, regardless of the order.\n",
    "\n",
    "Examples\n",
    "Valid arrays\n",
    "a = [121, 144, 19, 161, 19, 144, 19, 11]\n",
    "b = [121, 14641, 20736, 361, 25921, 361, 20736, 361]\n",
    "\n",
    "Invalid arrays\n",
    "If, for example, we change the first number to something else, comp is not returning true anymore:\n",
    "\n",
    "a = [121, 144, 19, 161, 19, 144, 19, 11]\n",
    "b = [132, 14641, 20736, 361, 25921, 361, 20736, 361]\n",
    "\n",
    "\n",
    "\"\"\"\n",
    "from math import sqrt\n",
    "def comp(array1, array2):\n",
    "    if (array1 is None and array2 is not None) or (array1 is not None and array2 is None):\n",
    "        return False\n",
    "    elif array1 is None and array2 is None:\n",
    "        return True\n",
    "    else:\n",
    "        NewArray2 = []\n",
    "        for iterator in array2:\n",
    "            NewArray2.append(int(sqrt(iterator)))\n",
    "        if sorted(array1) == sorted(NewArray2):\n",
    "            return True\n",
    "        else:\n",
    "            return False\n",
    "\"\"\""
   ],
   "metadata": {
    "collapsed": false
   }
  },
  {
   "cell_type": "code",
   "execution_count": 4,
   "outputs": [
    {
     "name": "stdout",
     "output_type": "stream",
     "text": [
      "True\n"
     ]
    }
   ],
   "source": [
    "def comp(array1, array2):\n",
    "    try:\n",
    "        return sorted([i ** 2 for i in array1]) == sorted(array2)\n",
    "    except:\n",
    "        return False\n",
    "\n",
    "a = [121, 144, 19, 161, 19, 144, 19, 11]\n",
    "b = [121, 14641, 20736, 361, 25921, 361, 20736, 361]\n",
    "\n",
    "print(comp(a, b))"
   ],
   "metadata": {
    "collapsed": false
   }
  },
  {
   "cell_type": "markdown",
   "source": [
    "#CamelCase Method\n",
    "\n",
    "Write simple .camelCase method (camel_case function in PHP, CamelCase in C# or camelCase in Java) for strings. All words must have their first letter capitalized without spaces.\n",
    "\n",
    "For instance:\n",
    "\n",
    "camelcase(\"hello case\") => HelloCase\n",
    "camelcase(\"camel case word\") => CamelCaseWord"
   ],
   "metadata": {
    "collapsed": false
   }
  },
  {
   "cell_type": "code",
   "execution_count": 5,
   "outputs": [
    {
     "name": "stdout",
     "output_type": "stream",
     "text": [
      "TestCase\n"
     ]
    }
   ],
   "source": [
    "def camel_case(string):\n",
    "    tmp = (string.split())\n",
    "    res = ''\n",
    "    for i in tmp:\n",
    "        i = i[0].upper() + i[1:len(i)]\n",
    "        res += i\n",
    "    return res\n",
    "\n",
    "\n",
    "print(camel_case(\"test case\"))"
   ],
   "metadata": {
    "collapsed": false
   }
  },
  {
   "cell_type": "markdown",
   "source": [
    "# Array.diff\n",
    "\n",
    "Your goal in this kata is to implement a difference function, which subtracts one list from another and returns the result.\n",
    "\n",
    "It should remove all values from list a, which are present in list b keeping their order.\n",
    "\n",
    "array_diff([1,2],[1]) == [2]\n",
    "If a value is present in b, all of its occurrences must be removed from the other:\n",
    "\n",
    "array_diff([1,2,2,2,3],[2]) == [1,3]"
   ],
   "metadata": {
    "collapsed": false
   }
  },
  {
   "cell_type": "code",
   "execution_count": 6,
   "outputs": [
    {
     "data": {
      "text/plain": "[3]"
     },
     "execution_count": 6,
     "metadata": {},
     "output_type": "execute_result"
    }
   ],
   "source": [
    "def array_diff(a, b):\n",
    "    if len(b) == 0:\n",
    "        return a\n",
    "\n",
    "    for i in b:\n",
    "        if i in a:\n",
    "            for n in range(a.count(i)):\n",
    "                a.remove(i)\n",
    "    return a\n",
    "\n",
    "\n",
    "array_diff([1,2,2], [2])\n",
    "array_diff([1, 2, 3], [1, 2])"
   ],
   "metadata": {
    "collapsed": false
   }
  },
  {
   "cell_type": "markdown",
   "source": [
    "# Does my number look big in this?\n",
    "\n",
    "A Narcissistic Number (or Armstrong Number) is a positive number which is the sum of its own digits,\n",
    "each raised to the power of the number of digits in a given base.\n",
    "In this Kata, we will restrict ourselves to decimal (base 10).\n",
    "\n",
    "For example, take 153 (3 digits), which is narcissistic:\n",
    "\n",
    "    1^3 + 5^3 + 3^3 = 1 + 125 + 27 = 153\n",
    "and 1652 (4 digits), which isn't:\n",
    "\n",
    "    1^4 + 6^4 + 5^4 + 2^4 = 1 + 1296 + 625 + 16 = 1938"
   ],
   "metadata": {
    "collapsed": false
   }
  },
  {
   "cell_type": "code",
   "execution_count": 7,
   "outputs": [
    {
     "name": "stdout",
     "output_type": "stream",
     "text": [
      "True\n"
     ]
    }
   ],
   "source": [
    "def narcissistic( value ):\n",
    "    n = len(str(value))\n",
    "    sum = 0\n",
    "    for i in range(n):\n",
    "        num = str(value)[i]\n",
    "        sum += int(num)**n\n",
    "    if sum == value:\n",
    "        return True\n",
    "    else:\n",
    "        return False\n",
    "\n",
    "print(narcissistic(153))"
   ],
   "metadata": {
    "collapsed": false
   }
  },
  {
   "cell_type": "markdown",
   "source": [
    "# Who likes it?\n",
    "\n",
    "You probably know the \"like\" system from Facebook and other pages.\n",
    "People can \"like\" blog posts, pictures or other items.\n",
    " We want to create the text that should be displayed next to such an item.\n",
    "\n",
    "Implement the function which takes an array containing the names of people that like an item.\n",
    "It must return the display text as shown in the examples:\n",
    "\n",
    "[]                                -->  \"no one likes this\"\n",
    "[\"Peter\"]                         -->  \"Peter likes this\"\n",
    "[\"Jacob\", \"Alex\"]                 -->  \"Jacob and Alex like this\"\n",
    "[\"Max\", \"John\", \"Mark\"]           -->  \"Max, John and Mark like this\"\n",
    "[\"Alex\", \"Jacob\", \"Mark\", \"Max\"]  -->  \"Alex, Jacob and 2 others like this\""
   ],
   "metadata": {
    "collapsed": false
   }
  },
  {
   "cell_type": "code",
   "execution_count": 8,
   "outputs": [
    {
     "name": "stdout",
     "output_type": "stream",
     "text": [
      "Alex, Jacob and 2 others like this\n"
     ]
    }
   ],
   "source": [
    "def likes(names):\n",
    "    if not names:\n",
    "        return \"no one likes this\"\n",
    "    elif len(names) == 1:\n",
    "        return names[0] + \" \" + \"likes this\"\n",
    "    elif len(names) == 2:\n",
    "        return names[0] + \" \" + \"and \" + names[1] + \" \" + \"like this\"\n",
    "    elif len(names) == 3:\n",
    "        return names[0] + \", \" + names[1] + \" \" + \"and \" + names[2] + \" like this\"\n",
    "    elif len(names) > 3:\n",
    "        return names[0] + \", \" + names[1] + \" and \" + str(len(names) - 2) + \" others like this\"\n",
    "\n",
    "names0 = []\n",
    "names1 = [\"Peter\"]\n",
    "names2 = [\"Jacob\", \"Alex\"]\n",
    "names3 = [\"Max\", \"John\", \"Mark\"]\n",
    "names4 = [\"Alex\", \"Jacob\", \"Mark\", \"Max\"]\n",
    "print(likes(names4))"
   ],
   "metadata": {
    "collapsed": false
   }
  },
  {
   "cell_type": "markdown",
   "source": [
    "# Two Sum\n",
    "The input will always be valid (numbers will be an array of length 2 or greater, and all of the items will be numbers;\n",
    "target will always be the sum of two different items from that array).\n",
    "\n",
    "two_sum([1, 2, 3], 4) # returns [0, 2] or [2, 0]"
   ],
   "metadata": {
    "collapsed": false
   }
  },
  {
   "cell_type": "code",
   "execution_count": 9,
   "outputs": [
    {
     "name": "stdout",
     "output_type": "stream",
     "text": [
      "[0, 2]\n",
      "[1, 2]\n",
      "[0, 1]\n"
     ]
    }
   ],
   "source": [
    "def two_sum(numbers, target):\n",
    "    for i in range (len(numbers)):\n",
    "        for j in range (1, len(numbers)):\n",
    "            if numbers[i] + numbers[j] == target:\n",
    "                return [i, j]\n",
    "\n",
    "print(two_sum([1,2,3], 4)) # [0,2]\n",
    "print(two_sum([1234,5678,9012], 14690)) # [1,2]\n",
    "print(two_sum([2,2,3], 4)) # [0,1]"
   ],
   "metadata": {
    "collapsed": false
   }
  },
  {
   "cell_type": "markdown",
   "source": [
    "# Mexican Wave\n",
    "\n",
    "The wave (known as the Mexican wave in the English-speaking world outside North America) is an example of metachronal rhythm achieved in a packed stadium when successive groups of spectators briefly stand, yell, and raise their arms. Immediately upon stretching to full height, the spectator returns to the usual seated position.\n",
    "\n",
    "The result is a wave of standing spectators that travels through the crowd, even though individual spectators never move away from their\n",
    "seats. In many large arenas the crowd is seated in a contiguous circuit all the way around the sport field, and so the wave is able to\n",
    "travel continuously around the arena; in discontiguous seating arrangements, the wave can instead reflect back and forth through the crowd.\n",
    "When the gap in seating is narrow, the wave can sometimes pass through it. Usually only one wave crest will be present at any given time in\n",
    "an arena, although simultaneous, counter-rotating waves have been produced. (Source Wikipedia)\n",
    "\n",
    "Task\n",
    "\n",
    "In this simple Kata your task is to create a function that turns a string into a Mexican Wave. You will be passed a string and you must\n",
    "return that string in an array where an uppercase letter is a person standing up.\n",
    "\n",
    "Rules\n",
    "\n",
    " 1.  The input string will always be lower case but maybe empty.\n",
    "\n",
    " 2.  If the character in the string is whitespace then pass over it as if it was an empty seat\n",
    "\n",
    "Example\n",
    "\n",
    "wave(\"hello\") => [\"Hello\", \"hEllo\", \"heLlo\", \"helLo\", \"hellO\"]"
   ],
   "metadata": {
    "collapsed": false
   }
  },
  {
   "cell_type": "code",
   "execution_count": 45,
   "outputs": [
    {
     "name": "stdout",
     "output_type": "stream",
     "text": [
      "['Codewars', 'cOdewars', 'coDewars', 'codEwars', 'codeWars', 'codewArs', 'codewaRs', 'codewarS']\n",
      "['Hello', 'hEllo', 'heLlo', 'helLo', 'hellO']\n",
      "['The words', 'tHe words', 'thE words', 'the Words', 'the wOrds', 'the woRds', 'the worDs', 'the wordS']\n"
     ]
    }
   ],
   "source": [
    "def wave(people):\n",
    "    if len(people) == 0:\n",
    "        return []\n",
    "    else:\n",
    "        people = people.lower()\n",
    "        result = []\n",
    "        for index, wave in enumerate(people):\n",
    "            if wave == \" \":\n",
    "                continue\n",
    "            else:\n",
    "                result.append(people[:index] + people[index].upper() + people[index + 1:])\n",
    "        return result\n",
    "\n",
    "people = \"codewars\"\n",
    "print(wave(people))\n",
    "\n",
    "people = \"hello\"\n",
    "print(wave(people))\n",
    "\n",
    "people = \"the words\"\n",
    "print(wave(people))"
   ],
   "metadata": {
    "collapsed": false
   }
  },
  {
   "cell_type": "code",
   "execution_count": null,
   "outputs": [],
   "source": [],
   "metadata": {
    "collapsed": false
   }
  }
 ],
 "metadata": {
  "kernelspec": {
   "display_name": "Python 3",
   "language": "python",
   "name": "python3"
  },
  "language_info": {
   "codemirror_mode": {
    "name": "ipython",
    "version": 2
   },
   "file_extension": ".py",
   "mimetype": "text/x-python",
   "name": "python",
   "nbconvert_exporter": "python",
   "pygments_lexer": "ipython2",
   "version": "2.7.6"
  }
 },
 "nbformat": 4,
 "nbformat_minor": 0
}
