{
 "cells": [
  {
   "cell_type": "markdown",
   "source": [
    "#Find the odd int\n",
    "\n",
    "Condition:\n",
    "\n",
    "Given an array of integers, find the one that appears an odd number of times.\n",
    "\n",
    "There will always be only one integer that appears an odd number of times.\n",
    "\n",
    "Examples\n",
    "[7] should return 7, because it occurs 1 time (which is odd).\n",
    "[0] should return 0, because it occurs 1 time (which is odd).\n",
    "[1,1,2] should return 2, because it occurs 1 time (which is odd).\n",
    "[0,1,0,1,0] should return 0, because it occurs 3 times (which is odd).\n",
    "[1,2,2,3,3,3,4,3,3,3,2,2,1] should return 4, because it appears 1 time (which is odd)."
   ],
   "metadata": {
    "collapsed": false
   }
  },
  {
   "cell_type": "code",
   "execution_count": 9,
   "metadata": {
    "collapsed": true
   },
   "outputs": [
    {
     "name": "stdout",
     "output_type": "stream",
     "text": [
      "5 4 -1\n"
     ]
    }
   ],
   "source": [
    "def find_it(seq):\n",
    "    for i in range(len(seq)):\n",
    "        count = 0\n",
    "        for j in range(len(seq)):\n",
    "            if seq[i] == seq[j]:\n",
    "                count += 1\n",
    "        if count % 2 == 1:\n",
    "            return int(seq[i])\n",
    "\n",
    "\n",
    "seq_1 = [20,1,-1,2,-2,3,3,5,5,1,2,4,20,4,-1,-2,5] # Res: 5\n",
    "seq_2 = [1,2,2,3,3,3,4,3,3,3,2,2,1] # Res: 4\n",
    "seq_3 = [1,1,2,-2,5,2,4,4,-1,-2,5] # Res: -1\n",
    "\n",
    "print(find_it(seq_1), find_it(seq_2), find_it(seq_3))"
   ]
  },
  {
   "cell_type": "markdown",
   "source": [
    "# Are they the \"same\"?\n",
    "\n",
    "Given two arrays a and b write a function comp(a, b) (orcompSame(a, b)) that checks whether the two arrays have the \"same\" elements, with the same multiplicities (the multiplicity of a member is the number of times it appears). \"Same\" means, here, that the elements in b are the elements in a squared, regardless of the order.\n",
    "\n",
    "Examples\n",
    "Valid arrays\n",
    "a = [121, 144, 19, 161, 19, 144, 19, 11]\n",
    "b = [121, 14641, 20736, 361, 25921, 361, 20736, 361]\n",
    "\n",
    "Invalid arrays\n",
    "If, for example, we change the first number to something else, comp is not returning true anymore:\n",
    "\n",
    "a = [121, 144, 19, 161, 19, 144, 19, 11]\n",
    "b = [132, 14641, 20736, 361, 25921, 361, 20736, 361]\n",
    "\n",
    "\n",
    "\"\"\"\n",
    "from math import sqrt\n",
    "def comp(array1, array2):\n",
    "    if (array1 is None and array2 is not None) or (array1 is not None and array2 is None):\n",
    "        return False\n",
    "    elif array1 is None and array2 is None:\n",
    "        return True\n",
    "    else:\n",
    "        NewArray2 = []\n",
    "        for iterator in array2:\n",
    "            NewArray2.append(int(sqrt(iterator)))\n",
    "        if sorted(array1) == sorted(NewArray2):\n",
    "            return True\n",
    "        else:\n",
    "            return False\n",
    "\"\"\""
   ],
   "metadata": {
    "collapsed": false
   }
  },
  {
   "cell_type": "code",
   "execution_count": 10,
   "outputs": [
    {
     "name": "stdout",
     "output_type": "stream",
     "text": [
      "True\n"
     ]
    }
   ],
   "source": [
    "def comp(array1, array2):\n",
    "    try:\n",
    "        return sorted([i ** 2 for i in array1]) == sorted(array2)\n",
    "    except:\n",
    "        return False\n",
    "\n",
    "a = [121, 144, 19, 161, 19, 144, 19, 11]\n",
    "b = [121, 14641, 20736, 361, 25921, 361, 20736, 361]\n",
    "\n",
    "print(comp(a, b))"
   ],
   "metadata": {
    "collapsed": false
   }
  },
  {
   "cell_type": "markdown",
   "source": [
    "#CamelCase Method\n",
    "\n",
    "Write simple .camelCase method (camel_case function in PHP, CamelCase in C# or camelCase in Java) for strings. All words must have their first letter capitalized without spaces.\n",
    "\n",
    "For instance:\n",
    "\n",
    "camelcase(\"hello case\") => HelloCase\n",
    "camelcase(\"camel case word\") => CamelCaseWord"
   ],
   "metadata": {
    "collapsed": false
   }
  },
  {
   "cell_type": "code",
   "execution_count": 11,
   "outputs": [
    {
     "name": "stdout",
     "output_type": "stream",
     "text": [
      "TestCase\n"
     ]
    }
   ],
   "source": [
    "def camel_case(string):\n",
    "    tmp = (string.split())\n",
    "    res = ''\n",
    "    for i in tmp:\n",
    "        i = i[0].upper() + i[1:len(i)]\n",
    "        res += i\n",
    "    return res\n",
    "\n",
    "\n",
    "print(camel_case(\"test case\"))"
   ],
   "metadata": {
    "collapsed": false
   }
  },
  {
   "cell_type": "markdown",
   "source": [
    "# Array.diff\n",
    "\n",
    "Your goal in this kata is to implement a difference function, which subtracts one list from another and returns the result.\n",
    "\n",
    "It should remove all values from list a, which are present in list b keeping their order.\n",
    "\n",
    "array_diff([1,2],[1]) == [2]\n",
    "If a value is present in b, all of its occurrences must be removed from the other:\n",
    "\n",
    "array_diff([1,2,2,2,3],[2]) == [1,3]"
   ],
   "metadata": {
    "collapsed": false
   }
  },
  {
   "cell_type": "code",
   "execution_count": 2,
   "outputs": [
    {
     "data": {
      "text/plain": "[3]"
     },
     "execution_count": 2,
     "metadata": {},
     "output_type": "execute_result"
    }
   ],
   "source": [
    "def array_diff(a, b):\n",
    "    if len(b) == 0:\n",
    "        return a\n",
    "\n",
    "    for i in b:\n",
    "        if i in a:\n",
    "            for n in range(a.count(i)):\n",
    "                a.remove(i)\n",
    "    return a\n",
    "\n",
    "\n",
    "array_diff([1,2,2], [2])\n",
    "array_diff([1, 2, 3], [1, 2])"
   ],
   "metadata": {
    "collapsed": false
   }
  },
  {
   "cell_type": "markdown",
   "source": [
    "# Does my number look big in this?\n",
    "\n",
    "A Narcissistic Number (or Armstrong Number) is a positive number which is the sum of its own digits,\n",
    "each raised to the power of the number of digits in a given base.\n",
    "In this Kata, we will restrict ourselves to decimal (base 10).\n",
    "\n",
    "For example, take 153 (3 digits), which is narcissistic:\n",
    "\n",
    "    1^3 + 5^3 + 3^3 = 1 + 125 + 27 = 153\n",
    "and 1652 (4 digits), which isn't:\n",
    "\n",
    "    1^4 + 6^4 + 5^4 + 2^4 = 1 + 1296 + 625 + 16 = 1938"
   ],
   "metadata": {
    "collapsed": false
   }
  },
  {
   "cell_type": "code",
   "execution_count": null,
   "outputs": [],
   "source": [
    "def narcissistic( value ):\n",
    "    n = len(str(value))\n",
    "    sum = 0\n",
    "    for i in range(n):\n",
    "        num = str(value)[i]\n",
    "        sum += int(num)**n\n",
    "    if sum == value:\n",
    "        return True\n",
    "    else:\n",
    "        return False\n",
    "\n",
    "print(narcissistic(153))"
   ],
   "metadata": {
    "collapsed": false
   }
  }
 ],
 "metadata": {
  "kernelspec": {
   "display_name": "Python 3",
   "language": "python",
   "name": "python3"
  },
  "language_info": {
   "codemirror_mode": {
    "name": "ipython",
    "version": 2
   },
   "file_extension": ".py",
   "mimetype": "text/x-python",
   "name": "python",
   "nbconvert_exporter": "python",
   "pygments_lexer": "ipython2",
   "version": "2.7.6"
  }
 },
 "nbformat": 4,
 "nbformat_minor": 0
}
