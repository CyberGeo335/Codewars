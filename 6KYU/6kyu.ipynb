{
 "cells": [
  {
   "cell_type": "markdown",
   "source": [
    "#Find the odd int\n",
    "\n",
    "Condition:\n",
    "\n",
    "Given an array of integers, find the one that appears an odd number of times.\n",
    "\n",
    "There will always be only one integer that appears an odd number of times.\n",
    "\n",
    "Examples\n",
    "[7] should return 7, because it occurs 1 time (which is odd).\n",
    "[0] should return 0, because it occurs 1 time (which is odd).\n",
    "[1,1,2] should return 2, because it occurs 1 time (which is odd).\n",
    "[0,1,0,1,0] should return 0, because it occurs 3 times (which is odd).\n",
    "[1,2,2,3,3,3,4,3,3,3,2,2,1] should return 4, because it appears 1 time (which is odd)."
   ],
   "metadata": {
    "collapsed": false
   }
  },
  {
   "cell_type": "code",
   "execution_count": 5,
   "metadata": {
    "collapsed": true
   },
   "outputs": [
    {
     "name": "stdout",
     "output_type": "stream",
     "text": [
      "5 4 -1\n"
     ]
    }
   ],
   "source": [
    "def find_it(seq):\n",
    "    for i in range(len(seq)):\n",
    "        count = 0\n",
    "        for j in range(len(seq)):\n",
    "            if seq[i] == seq[j]:\n",
    "                count += 1\n",
    "        if count % 2 == 1:\n",
    "            return int(seq[i])\n",
    "\n",
    "\n",
    "seq_1 = [20,1,-1,2,-2,3,3,5,5,1,2,4,20,4,-1,-2,5] # Res: 5\n",
    "seq_2 = [1,2,2,3,3,3,4,3,3,3,2,2,1] # Res: 4\n",
    "seq_3 = [1,1,2,-2,5,2,4,4,-1,-2,5] # Res: -1\n",
    "\n",
    "print(find_it(seq_1), find_it(seq_2), find_it(seq_3))"
   ]
  },
  {
   "cell_type": "markdown",
   "source": [
    "# Are they the \"same\"?\n",
    "\n",
    "Given two arrays a and b write a function comp(a, b) (orcompSame(a, b)) that checks whether the two arrays have the \"same\" elements, with the same multiplicities (the multiplicity of a member is the number of times it appears). \"Same\" means, here, that the elements in b are the elements in a squared, regardless of the order.\n",
    "\n",
    "Examples\n",
    "Valid arrays\n",
    "a = [121, 144, 19, 161, 19, 144, 19, 11]\n",
    "b = [121, 14641, 20736, 361, 25921, 361, 20736, 361]\n",
    "\n",
    "Invalid arrays\n",
    "If, for example, we change the first number to something else, comp is not returning true anymore:\n",
    "\n",
    "a = [121, 144, 19, 161, 19, 144, 19, 11]\n",
    "b = [132, 14641, 20736, 361, 25921, 361, 20736, 361]"
   ],
   "metadata": {
    "collapsed": false
   }
  },
  {
   "cell_type": "code",
   "execution_count": null,
   "outputs": [],
   "source": [
    "def comp(array1, array2):\n",
    "    try:\n",
    "        return sorted([i ** 2 for i in array1]) == sorted(array2)\n",
    "    except:\n",
    "        return False\n",
    "\n",
    "a = [121, 144, 19, 161, 19, 144, 19, 11]\n",
    "b = [121, 14641, 20736, 361, 25921, 361, 20736, 361]\n",
    "\n",
    "print(comp(a, b))"
   ],
   "metadata": {
    "collapsed": false
   }
  }
 ],
 "metadata": {
  "kernelspec": {
   "display_name": "Python 3",
   "language": "python",
   "name": "python3"
  },
  "language_info": {
   "codemirror_mode": {
    "name": "ipython",
    "version": 2
   },
   "file_extension": ".py",
   "mimetype": "text/x-python",
   "name": "python",
   "nbconvert_exporter": "python",
   "pygments_lexer": "ipython2",
   "version": "2.7.6"
  }
 },
 "nbformat": 4,
 "nbformat_minor": 0
}
