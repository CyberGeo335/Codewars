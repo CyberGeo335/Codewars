{
 "cells": [
  {
   "cell_type": "markdown",
   "source": [
    "# RGB To Hex Conversion\n",
    "\n",
    "The rgb function is incomplete. Complete it so that passing in RGB decimal values will result in a hexadecimal representation being returned. Valid decimal values for RGB are 0 - 255. Any values that fall out of that range must be rounded to the closest valid value.\n",
    "\n",
    "Note: Your answer should always be 6 characters long, the shorthand with 3 will not work here.\n",
    "\n",
    "The following are examples of expected output values:\n",
    "\n",
    "rgb(255, 255, 255) # returns FFFFFF\n",
    "rgb(255, 255, 300) # returns FFFFFF\n",
    "rgb(0,0,0) # returns 000000\n",
    "rgb(148, 0, 211) # returns 9400D3"
   ],
   "metadata": {
    "collapsed": false
   }
  },
  {
   "cell_type": "code",
   "execution_count": 1,
   "metadata": {
    "collapsed": true
   },
   "outputs": [
    {
     "name": "stdout",
     "output_type": "stream",
     "text": [
      "000B5C\n"
     ]
    }
   ],
   "source": [
    "def rgb(r, g, b):\n",
    "    arr = [r, g, b]\n",
    "    tmp = []\n",
    "    for i in range(len(arr)):\n",
    "        if arr[i] <= 0:\n",
    "            tmp.append(\"00\")\n",
    "        elif 0 < arr[i] <= 9:\n",
    "            tmp.append(\"0\" + str(arr[i]))\n",
    "        elif 10 <= arr[i] <= 16:\n",
    "            tmp.append(\"0\" + str(hex(arr[i]))[2::])\n",
    "        elif arr[i] > 255:\n",
    "            tmp.append(\"FF\")\n",
    "        else:\n",
    "            tmp.append(str(hex(arr[i]))[2::])\n",
    "    res = tmp[0] + tmp[1] + tmp[2]\n",
    "    return res.upper()\n",
    "\n",
    "#print(rgb(0, 0, 0))\n",
    "#print(rgb(1, 2, 3))\n",
    "#print(rgb(255, 255, 255))\n",
    "#print(rgb(254, 253, 252))\n",
    "#print(rgb(-20, 275, 125))\n",
    "print(rgb(-76 ,11 ,92))"
   ]
  },
  {
   "cell_type": "markdown",
   "source": [
    "# Maximum subarray sum\n",
    "\n",
    "The maximum sum subarray problem consists in finding the maximum sum of a contiguous subsequence in an array or list of integers:\n",
    "\n",
    "max_sequence([-2, 1, -3, 4, -1, 2, 1, -5, 4])\n",
    "should be 6: [4, -1, 2, 1]\n",
    "\n",
    "Easy case is when the list is made up of only positive numbers and the maximum sum is the sum of the whole array. If the list is made up of only negative numbers, return 0 instead.\n",
    "\n",
    "Empty list is considered to have zero greatest sum. Note that the empty list or array is also a valid sublist/subarray."
   ],
   "metadata": {
    "collapsed": false
   }
  },
  {
   "cell_type": "code",
   "execution_count": 2,
   "outputs": [],
   "source": [
    "def max_sequence(arr):\n",
    "    count = 0\n",
    "    for i in range (len(arr)):\n",
    "        if arr[i] <= 0:\n",
    "            count += 1\n",
    "        if count == len(arr):\n",
    "            return 0\n",
    "    count = 0\n",
    "    for i in range (len(arr)):\n",
    "        if arr[i] > 0:\n",
    "            count += 1\n",
    "        if count == len(arr):\n",
    "            res = list(set(arr))\n",
    "            return sum(res)\n",
    "\n",
    "\n",
    "\n",
    "    return arr\n",
    "\n",
    "\n",
    "#max_sequence([-2, 1, -3, 4, -1, 2, 1, -5, 4])\n",
    "#max_sequence([0, 0, 0, 0, 0, 0, 0, 0, 0])\n",
    "#max_sequence([1, 2, 3])\n",
    "\n",
    "# TODO: НЕПРЕРЫВНАЯ ПОСЛЕДОВАТЕЛЬНОСТЬ"
   ],
   "metadata": {
    "collapsed": false
   }
  },
  {
   "cell_type": "markdown",
   "source": [
    "# ROT13\n",
    "\n",
    "ROT13 is a simple letter substitution cipher that replaces a letter with the letter 13 letters after it in the alphabet. ROT13 is an example of the Caesar cipher.\n",
    "\n",
    "Create a function that takes a string and returns the string ciphered with Rot13. If there are numbers or special characters included in the string, they should be returned as they are. Only letters from the latin/english alphabet should be shifted, like in the original Rot13 \"implementation\".\n",
    "\n",
    "Please note that using encode is considered cheating."
   ],
   "metadata": {
    "collapsed": false
   }
  },
  {
   "cell_type": "code",
   "execution_count": 3,
   "outputs": [
    {
     "name": "stdout",
     "output_type": "stream",
     "text": [
      "grfg\n",
      "Grfg\n",
      "nN oO mM 1234 *!?%\n"
     ]
    }
   ],
   "source": [
    "def rot13(message):\n",
    "    message = list(message)\n",
    "    for i in range (len(message)):\n",
    "        if message[i].islower():\n",
    "            tmp = ord(message[i])\n",
    "            if tmp <= 109:\n",
    "                message[i] = chr(tmp + 13)\n",
    "            elif 109 < tmp <= 122:\n",
    "                message[i] = chr(tmp - 13)\n",
    "        elif message[i].isupper():\n",
    "            tmp = ord(message[i])\n",
    "            if tmp <= 77:\n",
    "                message[i] = chr(tmp + 13)\n",
    "            elif 77 < tmp <=90:\n",
    "                message[i] = chr(tmp - 13)\n",
    "        if not(message[i].isalpha()):\n",
    "            continue\n",
    "\n",
    "    return \"\".join(message)\n",
    "\n",
    "message = \"test\"\n",
    "print(rot13(message)) # grfg\n",
    "\n",
    "message = \"Test\"\n",
    "print(rot13(message))\n",
    "\n",
    "message = \"aA bB zZ 1234 *!?%\" # 'nN oO mM 1234 *!?%'\n",
    "print(rot13(message))"
   ],
   "metadata": {
    "collapsed": false
   }
  },
  {
   "cell_type": "markdown",
   "source": [
    "# ROT13\n",
    "\n",
    "Clever solution:"
   ],
   "metadata": {
    "collapsed": false
   }
  },
  {
   "cell_type": "code",
   "execution_count": 4,
   "outputs": [
    {
     "name": "stdout",
     "output_type": "stream",
     "text": [
      "grfg\n",
      "Grfg\n",
      "nN oO mM 1234 *!?%\n"
     ]
    }
   ],
   "source": [
    "def rot13(message):\n",
    "    result = ''\n",
    "    for char in message:\n",
    "        if char.isalpha() and char.isupper():\n",
    "            result += chr((((ord(char) - 65) + 13) % 26) + 65)\n",
    "        elif char.isalpha() and char.islower():\n",
    "            result += chr((((ord(char) - 97) + 13) % 26) + 97)\n",
    "        else:\n",
    "            result += char\n",
    "    return result\n",
    "\n",
    "message = \"test\"\n",
    "print(rot13(message)) # grfg\n",
    "\n",
    "message = \"Test\"\n",
    "print(rot13(message))\n",
    "\n",
    "message = \"aA bB zZ 1234 *!?%\" # 'nN oO mM 1234 *!?%'\n",
    "print(rot13(message))"
   ],
   "metadata": {
    "collapsed": false
   }
  },
  {
   "cell_type": "code",
   "execution_count": 4,
   "outputs": [],
   "source": [],
   "metadata": {
    "collapsed": false
   }
  }
 ],
 "metadata": {
  "kernelspec": {
   "display_name": "Python 3",
   "language": "python",
   "name": "python3"
  },
  "language_info": {
   "codemirror_mode": {
    "name": "ipython",
    "version": 2
   },
   "file_extension": ".py",
   "mimetype": "text/x-python",
   "name": "python",
   "nbconvert_exporter": "python",
   "pygments_lexer": "ipython2",
   "version": "2.7.6"
  }
 },
 "nbformat": 4,
 "nbformat_minor": 0
}
